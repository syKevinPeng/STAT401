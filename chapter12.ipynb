{
 "cells": [
  {
   "cell_type": "code",
   "execution_count": 1,
   "metadata": {
    "collapsed": true
   },
   "outputs": [],
   "source": [
    "import numpy as np\n",
    "np.set_printoptions(suppress=True)"
   ]
  },
  {
   "cell_type": "code",
   "source": [
    "# xraw_input = np.random.normal(loc= 222.1, scale=my_std, size = 17)\n",
    "# yraw_input = np.random.normal(loc= my_mean, scale=my_std, size = 17)\n",
    "xraw_input = \"0 .42 .23 .33 .62 .60 .45 .87 .90 .79 1 1 1\"\n",
    "yraw_input = \".62 .53 .61 .59 .50 .55 .59 .31 .43 .46 .23 .22 .19\"\n",
    "data_x = xraw_input.split()\n",
    "data_y = yraw_input.split()\n",
    "print(data_x)\n",
    "print(data_y)"
   ],
   "metadata": {
    "collapsed": false,
    "pycharm": {
     "name": "#%%\n"
    }
   },
   "execution_count": 203,
   "outputs": [
    {
     "name": "stdout",
     "output_type": "stream",
     "text": [
      "['0', '.42', '.23', '.33', '.62', '.60', '.45', '.87', '.90', '.79', '1', '1', '1']\n",
      "['.62', '.53', '.61', '.59', '.50', '.55', '.59', '.31', '.43', '.46', '.23', '.22', '.19']\n"
     ]
    }
   ]
  },
  {
   "cell_type": "code",
   "source": [
    "# xraw_input = np.random.normal(loc= my_mean, scale=my_std, size = 10)\n",
    "# yraw_input = np.random.normal(loc= my_mean, scale=my_std, size = 10)\n",
    "##data_x = [1.5\t,1.5\t,2.0,\t2.5\t,2.5\t,3.0,\t3.5\t,3.5\t,4.0]\n",
    "##data_y =[22.0,\t24.5,\t25.5,\t29.5,\t33.5,\t39.5,\t40.5,\t46.5,\t49.5]"
   ],
   "metadata": {
    "collapsed": false,
    "pycharm": {
     "name": "#%%\n"
    }
   },
   "execution_count": 204,
   "outputs": []
  },
  {
   "cell_type": "code",
   "execution_count": 205,
   "outputs": [
    {
     "name": "stdout",
     "output_type": "stream",
     "text": [
      "m:  -0.4326847460858377\n",
      "b:  0.7217185973357483\n"
     ]
    }
   ],
   "source": [
    "data_x = np.asarray(data_x).astype(float)\n",
    "data_y = np.asarray(data_y).astype(float)\n",
    "m, b = np.polyfit(data_x, data_y, 1)\n",
    "print(\"m: \", m)\n",
    "print(\"b: \", b)\n",
    "n = len(data_y)"
   ],
   "metadata": {
    "collapsed": false,
    "pycharm": {
     "name": "#%%\n"
    }
   }
  },
  {
   "cell_type": "code",
   "execution_count": 206,
   "outputs": [
    {
     "data": {
      "text/plain": "array([0.7217186 , 0.539991  , 0.62220111, 0.57893263, 0.45345405,\n       0.46210775, 0.52701046, 0.34528287, 0.33230233, 0.37989765,\n       0.28903385, 0.28903385, 0.28903385])"
     },
     "execution_count": 206,
     "metadata": {},
     "output_type": "execute_result"
    }
   ],
   "source": [
    "slope = m\n",
    "intercept = b\n",
    "pred = data_x*slope + intercept\n",
    "pred"
   ],
   "metadata": {
    "collapsed": false,
    "pycharm": {
     "name": "#%%\n"
    }
   }
  },
  {
   "cell_type": "code",
   "execution_count": 207,
   "outputs": [
    {
     "name": "stdout",
     "output_type": "stream",
     "text": [
      "SSE:  0.05984157650787601\n"
     ]
    }
   ],
   "source": [
    "SSE = sum(np.power(pred - data_y, 2))\n",
    "print(\"SSE: \", SSE)"
   ],
   "metadata": {
    "collapsed": false,
    "pycharm": {
     "name": "#%%\n"
    }
   }
  },
  {
   "cell_type": "code",
   "execution_count": 208,
   "outputs": [
    {
     "data": {
      "text/plain": "0.07375732722176027"
     },
     "execution_count": 208,
     "metadata": {},
     "output_type": "execute_result"
    }
   ],
   "source": [
    "variance = SSE/ (len(data_x) -2)\n",
    "sd = np.sqrt(variance)\n",
    "sd"
   ],
   "metadata": {
    "collapsed": false,
    "pycharm": {
     "name": "#%%\n"
    }
   }
  },
  {
   "cell_type": "code",
   "execution_count": 209,
   "outputs": [
    {
     "data": {
      "text/plain": "0.3015692307692308"
     },
     "execution_count": 209,
     "metadata": {},
     "output_type": "execute_result"
    }
   ],
   "source": [
    "# SST or total sum of squares\n",
    "SST = sum(np.power(data_y - np.mean(data_y), 2))\n",
    "SST"
   ],
   "metadata": {
    "collapsed": false,
    "pycharm": {
     "name": "#%%\n"
    }
   }
  },
  {
   "cell_type": "code",
   "execution_count": 210,
   "outputs": [
    {
     "name": "stdout",
     "output_type": "stream",
     "text": [
      "R_squared is  0.8015660405564768 \n",
      "r (correlation):  0.8953022062725395\n"
     ]
    }
   ],
   "source": [
    "r_squared = 1 - SSE/SST\n",
    "print(\"R_squared is \", r_squared, \"\\nr (correlation): \", np.sqrt(r_squared))"
   ],
   "metadata": {
    "collapsed": false,
    "pycharm": {
     "name": "#%%\n"
    }
   }
  },
  {
   "cell_type": "code",
   "execution_count": 211,
   "outputs": [
    {
     "name": "stdout",
     "output_type": "stream",
     "text": [
      "Sxx:  1.291169230769231\n",
      "Syy:  0.30156923076923076\n",
      "Sxy:  -0.5586692307692307\n",
      "S:  0.07375732722176027\n"
     ]
    }
   ],
   "source": [
    "mean_x = np.mean(data_x)\n",
    "mean_y = np.mean(data_y)\n",
    "Sxx = np.sum(np.power((data_x - mean_x),2))\n",
    "Syy = np.sum(np.power((data_y - mean_y),2))\n",
    "Sxy = sum([(x-mean_x)*(y - mean_y)for x, y in zip(data_x,data_y)])\n",
    "S = np.sqrt(SSE/(len(data_x)-2))\n",
    "print(\"Sxx: \", Sxx)\n",
    "print(\"Syy: \", Syy)\n",
    "print(\"Sxy: \", Sxy)\n",
    "print(\"S: \", S)"
   ],
   "metadata": {
    "collapsed": false,
    "pycharm": {
     "name": "#%%\n"
    }
   }
  },
  {
   "cell_type": "markdown",
   "source": [
    "\\\\[ S_{\\beta_1} \\\\]: Sbeta1"
   ],
   "metadata": {
    "collapsed": false,
    "pycharm": {
     "name": "#%% md\n"
    }
   }
  },
  {
   "cell_type": "code",
   "execution_count": 212,
   "outputs": [
    {
     "data": {
      "text/plain": "0.0649102955520557"
     },
     "execution_count": 212,
     "metadata": {},
     "output_type": "execute_result"
    }
   ],
   "source": [
    "Sbeta1 = S / np.sqrt(Sxx)\n",
    "Sbeta1"
   ],
   "metadata": {
    "collapsed": false,
    "pycharm": {
     "name": "#%%\n"
    }
   }
  },
  {
   "cell_type": "markdown",
   "source": [
    "### Model Utility Test"
   ],
   "metadata": {
    "collapsed": false
   }
  },
  {
   "cell_type": "code",
   "source": [
    "# t-statistic: when H0: beta1 = 0\n",
    "t_value = (m-0)/Sbeta1\n",
    "t_value"
   ],
   "metadata": {
    "collapsed": false,
    "pycharm": {
     "name": "#%%\n"
    }
   },
   "execution_count": 213,
   "outputs": [
    {
     "data": {
      "text/plain": "-6.665887782606694"
     },
     "execution_count": 213,
     "metadata": {},
     "output_type": "execute_result"
    }
   ]
  },
  {
   "cell_type": "code",
   "execution_count": 214,
   "outputs": [
    {
     "name": "stdout",
     "output_type": "stream",
     "text": [
      "P value for ha != a is:  0.0\n",
      "P value for ha < a  0.0\n",
      "P value for ha > a  1.0\n"
     ]
    }
   ],
   "source": [
    "df = len(data_x)-2\n",
    "import  scipy.stats as stats\n",
    "pval = stats.t.sf(np.abs(t_value), df)*2\n",
    "print(\"P value for ha != a is: \", np.around(pval,4))\n",
    "print(\"P value for ha < a \",  np.around(stats.t.sf(np.abs(t_value), df),4))\n",
    "print(\"P value for ha > a \",  np.around(1-stats.t.sf(np.abs(t_value), df),4))"
   ],
   "metadata": {
    "collapsed": false,
    "pycharm": {
     "name": "#%%\n"
    }
   }
  },
  {
   "cell_type": "markdown",
   "source": [
    "### Confidence Interval for slope\n",
    "Calculate a confidence interval using confidence\n",
    "level 95% for the expected change"
   ],
   "metadata": {
    "collapsed": false,
    "pycharm": {
     "name": "#%% md\n"
    }
   }
  },
  {
   "cell_type": "code",
   "execution_count": 215,
   "outputs": [
    {
     "name": "stdout",
     "output_type": "stream",
     "text": [
      "t value for CI is  2.200985160082949\n"
     ]
    }
   ],
   "source": [
    "# CI for the true average change\n",
    "# calculate t-value for CI:\n",
    "# df = len(data_x)-2\n",
    "# confidence = 1 - (0.05/2)\n",
    "tval = stats.t.ppf(confidence, df)\n",
    "print(\"t value for CI is \", tval)"
   ],
   "metadata": {
    "collapsed": false,
    "pycharm": {
     "name": "#%%\n"
    }
   }
  },
  {
   "cell_type": "code",
   "execution_count": 216,
   "outputs": [
    {
     "name": "stdout",
     "output_type": "stream",
     "text": [
      "Confidence level is  -0.95\n"
     ]
    },
    {
     "data": {
      "text/plain": "(-0.5755513433325106, -0.28981814883916485)"
     },
     "execution_count": 216,
     "metadata": {},
     "output_type": "execute_result"
    }
   ],
   "source": [
    "print(\"Confidence level is \",  1-confidence*2)\n",
    "# CI:\n",
    "(m- tval*Sbeta1,m+ tval*Sbeta1 )"
   ],
   "metadata": {
    "collapsed": false,
    "pycharm": {
     "name": "#%%\n"
    }
   }
  },
  {
   "cell_type": "markdown",
   "source": [
    "### CI for fixed x"
   ],
   "metadata": {
    "collapsed": false,
    "pycharm": {
     "name": "#%% md\n"
    }
   }
  },
  {
   "cell_type": "code",
   "execution_count": 217,
   "outputs": [
    {
     "name": "stdout",
     "output_type": "stream",
     "text": [
      "Sy: 0.0221669445192059\n",
      "CI for fixed x= 0.5 is (0.4565871083616752, 0.5541653402239837)\n"
     ]
    }
   ],
   "source": [
    "x_pun = 0.5\n",
    "y_pred = x_pun * slope + intercept\n",
    "Sy = S*np.sqrt(1/len(data_x)+(x_pun - mean_x)**2/Sxx)\n",
    "print(\"Sy:\", Sy)\n",
    "print(\"CI for fixed x=\", str(x_pun),\"is\", (y_pred-tval*Sy,y_pred+tval*Sy))"
   ],
   "metadata": {
    "collapsed": false,
    "pycharm": {
     "name": "#%%\n"
    }
   }
  },
  {
   "cell_type": "markdown",
   "source": [
    "###  PI for fixed x:"
   ],
   "metadata": {
    "collapsed": false,
    "pycharm": {
     "name": "#%% md\n"
    }
   }
  },
  {
   "cell_type": "code",
   "execution_count": 222,
   "outputs": [
    {
     "name": "stdout",
     "output_type": "stream",
     "text": [
      "t value for CI is  2.200985160082949\n",
      "Confidence is  -0.95\n",
      "PI for fixed x= 0.5 is (0.3358644011368077, 0.6748880474488512)\n"
     ]
    }
   ],
   "source": [
    "df = len(data_x)-2\n",
    "confidence = 1 - (0.05/2)\n",
    "tval = stats.t.ppf(confidence, df)\n",
    "print(\"t value for CI is \", tval)\n",
    "print(\"Confidence is \", 1-confidence*2)\n",
    "x_pun = 0.5\n",
    "y_pred = x_pun * slope + intercept\n",
    "Sy = S*np.sqrt(1/len(data_x)+(x_pun - mean_x)**2/Sxx)\n",
    "print(\"PI for fixed x=\", str(x_pun),\"is\", (y_pred-tval*np.sqrt(S**2 + Sy**2),y_pred+tval*np.sqrt(S**2 + Sy**2)))"
   ],
   "metadata": {
    "collapsed": false,
    "pycharm": {
     "name": "#%%\n"
    }
   }
  },
  {
   "cell_type": "markdown",
   "source": [
    "### Testing for absence of Correlation"
   ],
   "metadata": {
    "collapsed": false,
    "pycharm": {
     "name": "#%% md\n"
    }
   }
  },
  {
   "cell_type": "code",
   "execution_count": 219,
   "outputs": [
    {
     "name": "stdout",
     "output_type": "stream",
     "text": [
      "T value is  6.665887782606692\n",
      "P value for ha != a is:  3.5346348988700504e-05\n",
      "P value for ha < a  1.7673174494350252e-05\n",
      "P value for ha > a  0.9999823268255057\n"
     ]
    }
   ],
   "source": [
    "R = np.sqrt(r_squared)\n",
    "T = (R*(np.sqrt(n-2)))/(np.sqrt(1-R**2))\n",
    "df = n-2\n",
    "pval = stats.t.sf(np.abs(t_value), df)*2\n",
    "print(\"T value is \", T)\n",
    "print(\"P value for ha != a is: \", pval)\n",
    "print(\"P value for ha < a \",  stats.t.sf(np.abs(t_value), df))\n",
    "print(\"P value for ha > a \",  1-stats.t.sf(np.abs(t_value), df))"
   ],
   "metadata": {
    "collapsed": false,
    "pycharm": {
     "name": "#%%\n"
    }
   }
  },
  {
   "cell_type": "code",
   "execution_count": 224,
   "outputs": [
    {
     "data": {
      "text/plain": "(-0.6296345164631945, 0.6296345164631946)"
     },
     "execution_count": 224,
     "metadata": {},
     "output_type": "execute_result"
    }
   ],
   "source": [
    "# CI for p\n",
    "r = 0.8\n",
    "n = 10\n",
    "z_value = 1.96\n",
    "v = 1/2 * np.log(1+r/1-r)\n",
    "c1 = v - z_value/np.sqrt(n-3)\n",
    "c2 = v + z_value/np.sqrt(n-3)\n",
    "interval = ((np.e**(2*c1)-1)/(np.e**(2*c1)+1),(np.e**(2*c2)-1)/(np.e**(2*c2)+1))\n",
    "interval"
   ],
   "metadata": {
    "collapsed": false,
    "pycharm": {
     "name": "#%%\n"
    }
   }
  },
  {
   "cell_type": "code",
   "execution_count": 220,
   "outputs": [],
   "source": [],
   "metadata": {
    "collapsed": false,
    "pycharm": {
     "name": "#%%\n"
    }
   }
  }
 ],
 "metadata": {
  "kernelspec": {
   "name": "pycharm-5e21c1db",
   "language": "python",
   "display_name": "PyCharm (math401)"
  },
  "language_info": {
   "codemirror_mode": {
    "name": "ipython",
    "version": 2
   },
   "file_extension": ".py",
   "mimetype": "text/x-python",
   "name": "python",
   "nbconvert_exporter": "python",
   "pygments_lexer": "ipython2",
   "version": "2.7.6"
  }
 },
 "nbformat": 4,
 "nbformat_minor": 0
}