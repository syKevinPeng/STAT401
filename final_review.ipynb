{
 "cells": [
  {
   "cell_type": "markdown",
   "metadata": {
    "collapsed": true,
    "pycharm": {
     "name": "#%% md\n"
    }
   },
   "source": [
    "## Chapter 7\n",
    " - Confidence Interval for Population Proportion\n",
    " - z critical value calculator\n",
    " - t critical value calculator\n",
    " - chi-sqaured value calculator"
   ]
  },
  {
   "cell_type": "code",
   "execution_count": 5,
   "outputs": [],
   "source": [
    "import scipy.stats as st\n",
    "import numpy as np"
   ],
   "metadata": {
    "collapsed": false,
    "pycharm": {
     "name": "#%%\n"
    }
   }
  },
  {
   "cell_type": "code",
   "execution_count": 4,
   "outputs": [
    {
     "name": "stdout",
     "output_type": "stream",
     "text": [
      "p_tilda is  0.34568335494435287\n",
      "next_part is  0.12891554799616722\n",
      "Confidence Interval is  (0.21676780694818565, 0.4745989029405201)\n"
     ]
    }
   ],
   "source": [
    "# p is the portion; alpha is the confidence value, n is the size of population\n",
    "# Note: two tails\n",
    "def CI_proportion(p, alpha, n):\n",
    "    z_value = st.norm.ppf(1-(1-alpha)/2)\n",
    "    p_tilda = (p + z_value**2/(2*n))/(1+z_value**2/n)\n",
    "    q = 1-p\n",
    "    next_part = z_value*(np.sqrt(p*q/n + (z_value**2)/(4*(n**2)))/(1+((z_value**2)/n)))\n",
    "    ci = (p_tilda - next_part, p_tilda + next_part)\n",
    "    return p_tilda, next_part, ci\n",
    "p = 16/48\n",
    "alpha = 0.95\n",
    "n = 48\n",
    "p_tilda, next_part, CI = CI_proportion(p,alpha,n)\n",
    "print(\"p_tilda is \", p_tilda)\n",
    "print(\"next_part is \", next_part)\n",
    "print(\"Confidence Interval is \", CI)"
   ],
   "metadata": {
    "collapsed": false,
    "pycharm": {
     "name": "#%%\n"
    }
   }
  },
  {
   "cell_type": "code",
   "execution_count": 41,
   "outputs": [],
   "source": [],
   "metadata": {
    "collapsed": false,
    "pycharm": {
     "name": "#%%\n"
    }
   }
  },
  {
   "cell_type": "code",
   "execution_count": 42,
   "outputs": [
    {
     "data": {
      "text/plain": "1.959963984540054"
     },
     "execution_count": 42,
     "metadata": {},
     "output_type": "execute_result"
    }
   ],
   "source": [
    "# calculate z critical value\n",
    "def z_critical_val(alpha):\n",
    "    return st.norm.ppf(1-(1-alpha)/2)\n",
    "alpha = 0.95\n",
    "z_critical = z_critical_val(alpha)\n",
    "z_critical"
   ],
   "metadata": {
    "collapsed": false,
    "pycharm": {
     "name": "#%%\n"
    }
   }
  },
  {
   "cell_type": "code",
   "execution_count": 9,
   "outputs": [
    {
     "data": {
      "text/plain": "1.701130934265931"
     },
     "execution_count": 9,
     "metadata": {},
     "output_type": "execute_result"
    }
   ],
   "source": [
    "# calculate t critical value\n",
    "def t_critical_val(alpha, dof):\n",
    "    return st.t.ppf(1-(1-alpha)/2, dof)\n",
    "alpha = 0.90\n",
    "n = 30\n",
    "degree_of_freedom = n - 2\n",
    "t_critical = t_critical_val(alpha,degree_of_freedom)\n",
    "t_critical"
   ],
   "metadata": {
    "collapsed": false,
    "pycharm": {
     "name": "#%%\n"
    }
   }
  },
  {
   "cell_type": "code",
   "execution_count": 44,
   "outputs": [
    {
     "data": {
      "text/plain": "28.845350723404753"
     },
     "execution_count": 44,
     "metadata": {},
     "output_type": "execute_result"
    }
   ],
   "source": [
    "# calculate chi-square critical value\n",
    "def chi_square_critical_val(alpha, dof):\n",
    "    return st.chi2.ppf(1-(1-alpha)/2, dof)\n",
    "alpha = 0.95\n",
    "n = 17\n",
    "degree_of_freedom = n - 1\n",
    "chi_square_critl = chi_square_critical_val(alpha,degree_of_freedom)\n",
    "chi_square_critl\n",
    "# Be careful with calculate CI for vairance\n",
    "# st.chi2.ppf( alpha/2 , degree_of_freedom)"
   ],
   "metadata": {
    "collapsed": false,
    "pycharm": {
     "name": "#%%\n"
    }
   }
  },
  {
   "cell_type": "markdown",
   "source": [
    "## Chapter 8\n",
    "- Type II error probability for proportion test\n",
    "- calculate sample size n that satisfies beta"
   ],
   "metadata": {
    "collapsed": false,
    "pycharm": {
     "name": "#%% md\n"
    }
   }
  },
  {
   "cell_type": "code",
   "execution_count": 45,
   "outputs": [],
   "source": [
    "# po is the proportion stated in the null hypothesis\n",
    "# p' is the error proportion introduced here\n",
    "# alpha should be smaller than 0.5 such as 0.1, 0.05\n",
    "def type_II_proportion(p0,p_prime, alpha, n, mode):\n",
    "    if mode == 'larger':\n",
    "        z_critical = st.norm.ppf(1-alpha)\n",
    "        z = (p0-p_prime+z_critical*np.sqrt(p0*(1-p0)/n))/(np.sqrt(p_prime*(1-p_prime)/n))\n",
    "        return st.norm.cdf(z)\n",
    "    elif mode == 'smaller':\n",
    "        z_critical = st.norm.ppf(1-alpha)\n",
    "        z = (p0-p_prime-z_critical*np.sqrt(p0*(1-p0)/n))/(np.sqrt(p_prime*(1-p_prime)/n))\n",
    "        return 1-st.norm.cdf(z)\n",
    "    elif mode == 'not_equal':\n",
    "        z_critical = st.norm.ppf(1-alpha/2)\n",
    "        z1 = (p0-p_prime+z_critical*np.sqrt(p0*(1-p0)/n))/(np.sqrt(p_prime*(1-p_prime)/n))\n",
    "        z2 = (p0-p_prime-z_critical*np.sqrt(p0*(1-p0)/n))/(np.sqrt(p_prime*(1-p_prime)/n))\n",
    "        return st.norm.cdf(z1)- (1-st.norm.cdf(z2))\n",
    "    else:\n",
    "        raise Exception('wrong mode')"
   ],
   "metadata": {
    "collapsed": false,
    "pycharm": {
     "name": "#%%\n"
    }
   }
  },
  {
   "cell_type": "code",
   "execution_count": 46,
   "outputs": [
    {
     "data": {
      "text/plain": "0.022468746245518756"
     },
     "execution_count": 46,
     "metadata": {},
     "output_type": "execute_result"
    }
   ],
   "source": [
    "p0 = 0.9\n",
    "p_prime = 0.8\n",
    "alpha = 0.01\n",
    "n = 225\n",
    "mode = \"smaller\"\n",
    "type_II_proportion(p0,p_prime, alpha, n, mode)"
   ],
   "metadata": {
    "collapsed": false,
    "pycharm": {
     "name": "#%%\n"
    }
   }
  },
  {
   "cell_type": "markdown",
   "source": [
    "Sample size n for which the level $\\alpha$ test also satisfies $\\beta(p^{\\prime}) = \\beta$"
   ],
   "metadata": {
    "collapsed": false,
    "pycharm": {
     "name": "#%% md\n"
    }
   }
  },
  {
   "cell_type": "code",
   "execution_count": 47,
   "outputs": [],
   "source": [
    "# alpha should be smaller than 0.5 such as 0.1, 0.05\n",
    "def sample_size_for_beta_proportion(alpha, beta, p0,p_prime, mode):\n",
    "    if mode == 'one_tail':\n",
    "        z_alpha = st.norm.ppf(1-alpha)\n",
    "    elif mode == 'two_tail':\n",
    "        z_alpha = st.norm.ppf(1-alpha/2)\n",
    "    else:\n",
    "        raise Exception('wrong mode')\n",
    "    z_beta = st.norm.ppf(1-beta)\n",
    "    return ((z_alpha*np.sqrt(p0*(1-p0))+z_beta*np.sqrt(p_prime*(1-p_prime)))\\\n",
    "       /(p_prime-p0))**2"
   ],
   "metadata": {
    "collapsed": false,
    "pycharm": {
     "name": "#%%\n"
    }
   }
  },
  {
   "cell_type": "code",
   "execution_count": 48,
   "outputs": [
    {
     "data": {
      "text/plain": "265.18282712166274"
     },
     "execution_count": 48,
     "metadata": {},
     "output_type": "execute_result"
    }
   ],
   "source": [
    "p0 = 0.9\n",
    "p_prime = 0.8\n",
    "alpha = 0.01\n",
    "beta = 0.01\n",
    "n = 225\n",
    "mode = \"one_tail\"\n",
    "sample_size_for_beta_proportion(alpha,beta, p0,p_prime,mode)\n"
   ],
   "metadata": {
    "collapsed": false,
    "pycharm": {
     "name": "#%%\n"
    }
   }
  },
  {
   "cell_type": "markdown",
   "source": [
    "## Chapter 9\n",
    " - t test statistic for two-sample t test\n",
    " - degree of freedom for t test statistic\n",
    " - pooled variance\n",
    " - type II error probability for Two sample Proportion\n",
    " - sample size for type II of two sample proportion"
   ],
   "metadata": {
    "collapsed": false,
    "pycharm": {
     "name": "#%% md\n"
    }
   }
  },
  {
   "cell_type": "code",
   "execution_count": 49,
   "outputs": [],
   "source": [
    "# X is the mean value for sample 1, Y is the mean value for sample2, s1 is the std for sample 1, s2 is the std for sample 2\n",
    "# m is the size of sample 1 and n is the size of sample 2\n",
    "def t_statistic_two_sample_t(X, Y, diff, s1, s2, m, n):\n",
    "    return (X-Y-diff)/(np.sqrt(s1**2/m + s2**2/n))"
   ],
   "metadata": {
    "collapsed": false,
    "pycharm": {
     "name": "#%%\n"
    }
   }
  },
  {
   "cell_type": "code",
   "execution_count": 50,
   "outputs": [
    {
     "data": {
      "text/plain": "-72.63296227738981"
     },
     "execution_count": 50,
     "metadata": {},
     "output_type": "execute_result"
    }
   ],
   "source": [
    "mean1 = 51.71\n",
    "mean2 = 136.14\n",
    "diff = 0\n",
    "s1 = 0.79\n",
    "s2 = 3.59\n",
    "m = 10\n",
    "n = 10\n",
    "t_statistic_two_sample_t(mean1, mean2, diff, s1, s2, m, n)"
   ],
   "metadata": {
    "collapsed": false,
    "pycharm": {
     "name": "#%%\n"
    }
   }
  },
  {
   "cell_type": "code",
   "execution_count": 51,
   "outputs": [],
   "source": [
    "def degree_of_freedom_two_sample_t(X, Y, diff, s1, s2, m, n):\n",
    "    se1 = s1/np.sqrt(m)\n",
    "    se2 = s2/np.sqrt(n)\n",
    "    dof = (se1**2+ se2**2)**2/(se1**4/(m-1) + se2**4 / (n-1))\n",
    "    return dof"
   ],
   "metadata": {
    "collapsed": false,
    "pycharm": {
     "name": "#%%\n"
    }
   }
  },
  {
   "cell_type": "code",
   "execution_count": 52,
   "outputs": [
    {
     "data": {
      "text/plain": "9.869602122157502"
     },
     "execution_count": 52,
     "metadata": {},
     "output_type": "execute_result"
    }
   ],
   "source": [
    "mean1 = 51.71\n",
    "mean2 = 136.14\n",
    "diff = 0\n",
    "s1 = 0.79\n",
    "s2 = 3.59\n",
    "m = 10\n",
    "n = 10\n",
    "degree_of_freedom_two_sample_t(mean1, mean2, diff, s1, s2, m, n)"
   ],
   "metadata": {
    "collapsed": false,
    "pycharm": {
     "name": "#%%\n"
    }
   }
  },
  {
   "cell_type": "code",
   "execution_count": 58,
   "outputs": [
    {
     "data": {
      "text/plain": "2.2621571627409915"
     },
     "execution_count": 58,
     "metadata": {},
     "output_type": "execute_result"
    }
   ],
   "source": [
    "def pooled_variance_for_two_sample_t(s1, s2, m, n):\n",
    "    sp_squared = ((m-1)/(m+n-2))*s1**2 + ((n-1)/(m+n-2))*s2**2\n",
    "    return np.sqrt(sp_squared)"
   ],
   "metadata": {
    "collapsed": false,
    "pycharm": {
     "name": "#%%\n"
    }
   }
  },
  {
   "cell_type": "code",
   "execution_count": null,
   "outputs": [],
   "source": [
    "s1 = 1.5\n",
    "s2 = 1.7\n",
    "m = 10\n",
    "n = 10\n",
    "pooled_variance_for_two_sample_t(s1,s2, m, n)"
   ],
   "metadata": {
    "collapsed": false,
    "pycharm": {
     "name": "#%%\n"
    }
   }
  },
  {
   "cell_type": "code",
   "execution_count": null,
   "outputs": [],
   "source": [
    "# alpha should be smaller than 0.5 such as 0.1, 0.05\n",
    "def type_II_error_for_two_sample_proportion(p1,p2,m,n,alpha,mode):\n",
    "    q1 = 1-p1\n",
    "    q2 = 1-p2\n",
    "    p = (m*p1 + n*p2)/(m+n)\n",
    "    q = (m*q1 + n*q2)/(m+n)\n",
    "    variance = np.sqrt(p1*q1/m + p2*q2/n)\n",
    "    if mode == 'larger':\n",
    "        z_alpha = st.norm.ppf(1-alpha)\n",
    "        z_val =z_alpha*(np.sqrt(p*q*(1/m+1/n))-(p1-p2))/variance\n",
    "        return st.norm.cdf(z_val)\n",
    "    if mode == 'smaller':\n",
    "        z_alpha = st.norm.ppf(1-alpha)\n",
    "        z_val =-z_alpha*(np.sqrt(p*q*(1/m+1/n))-(p1-p2))/variance\n",
    "        return 1-st.norm.cdf(z_val)\n",
    "    if mode == 'not_equal':\n",
    "        z_alpha = st.norm.ppf(1-alpha/2)\n",
    "        z_val1 = z_alpha*(np.sqrt(p*q*(1/m+1/n))-(p1-p2))/variance\n",
    "        z_val2 = -z_alpha*(np.sqrt(p*q*(1/m+1/n))-(p1-p2))/variance\n",
    "        return st.norm.cdf(z_val1)-st.norm.cdf(z_val2)"
   ],
   "metadata": {
    "collapsed": false,
    "pycharm": {
     "name": "#%%\n"
    }
   }
  },
  {
   "cell_type": "code",
   "execution_count": 1,
   "outputs": [],
   "source": [
    "# d is p1-p2\n",
    "def sample_size_for_beta_of_two_sample_proportion(alpha,beta,p1, p2,d):\n",
    "    z_alpha = st.norm.ppf(1-alpha)\n",
    "    z_beta =  st.norm.ppf(1-beta)\n",
    "    q1 = 1-p1\n",
    "    q2 = 1-p2\n",
    "    n = (z_alpha*np.sqrt((p1+p2)*(q1+q2)/2)+z_beta*np.sqrt(p1*q1+p2*q2))**2/(d**2)\n",
    "    return n"
   ],
   "metadata": {
    "collapsed": false,
    "pycharm": {
     "name": "#%%\n"
    }
   }
  },
  {
   "cell_type": "markdown",
   "source": [
    "### Chapter 10\n",
    "- [Anova](https://goodcalculators.com/one-way-anova-calculator/)\n"
   ],
   "metadata": {
    "collapsed": false,
    "pycharm": {
     "name": "#%% md\n"
    }
   }
  }
 ],
 "metadata": {
  "kernelspec": {
   "name": "pycharm-5e21c1db",
   "language": "python",
   "display_name": "PyCharm (math401)"
  },
  "language_info": {
   "codemirror_mode": {
    "name": "ipython",
    "version": 2
   },
   "file_extension": ".py",
   "mimetype": "text/x-python",
   "name": "python",
   "nbconvert_exporter": "python",
   "pygments_lexer": "ipython2",
   "version": "2.7.6"
  }
 },
 "nbformat": 4,
 "nbformat_minor": 0
}