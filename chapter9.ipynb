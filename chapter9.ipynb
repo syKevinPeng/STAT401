{
 "cells": [
  {
   "cell_type": "code",
   "execution_count": 1,
   "metadata": {
    "collapsed": true
   },
   "outputs": [],
   "source": [
    "import math\n",
    "import scipy.stats as st"
   ]
  },
  {
   "cell_type": "markdown",
   "source": [
    "### Test Hypothesis Based on Two Sample"
   ],
   "metadata": {
    "collapsed": false,
    "pycharm": {
     "name": "#%% md\n"
    }
   }
  },
  {
   "cell_type": "code",
   "execution_count": 23,
   "outputs": [],
   "source": [
    "def two_sample_hypothesis(delta,mean1, mean2, m , n, sd1, sd2):\n",
    "    z_value = (mean1-mean2 - delta)/math.sqrt(sd1**2/m + sd2**2/n)\n",
    "    p_value = st.norm.cdf(z_value)\n",
    "    return z_value,p_value\n"
   ],
   "metadata": {
    "collapsed": false,
    "pycharm": {
     "name": "#%%\n"
    }
   }
  },
  {
   "cell_type": "code",
   "execution_count": 59,
   "outputs": [
    {
     "name": "stdout",
     "output_type": "stream",
     "text": [
      "z_value:  3.9419508948604243 p_value:  0.9999595892370591\n"
     ]
    }
   ],
   "source": [
    "z_value, p_value = two_sample_hypothesis(delta = 0, mean1 = 18.17 , mean2 = 16.82 , m = 42, n=30,sd1= 1.6, sd2 = 1.3)\n",
    "print('z_value: ', z_value, 'p_value: ', p_value)"
   ],
   "metadata": {
    "collapsed": false,
    "pycharm": {
     "name": "#%%\n"
    }
   }
  },
  {
   "cell_type": "markdown",
   "source": [
    "### beta and Choice of Sample Size"
   ],
   "metadata": {
    "collapsed": false,
    "pycharm": {
     "name": "#%% md\n"
    }
   }
  },
  {
   "cell_type": "code",
   "execution_count": 60,
   "outputs": [],
   "source": [
    "def two_sample_larger_beta(delta, new_delta, m , n, sd1, sd2,alpha):\n",
    "    return st.norm.cdf(st.norm.ppf(1-alpha) - (new_delta - delta)/(math.sqrt(sd1**2/m+sd2**2/n)))\n",
    "def two_sample_smaller_beta(delta, new_delta, m , n, sd1, sd2,alpha):\n",
    "    return 1- st.norm.cdf(-st.norm.ppf(1-alpha) - (new_delta - delta)/(math.sqrt(sd1**2/m+sd2**2/n)))\n",
    "def two_sample_larger_beta(delta, new_delta, m , n, sd1, sd2,alpha):\n",
    "    return st.norm.cdf(st.norm.ppf(1-alpha/2) - (new_delta - delta)/(math.sqrt(sd1**2/m+sd2**2/n))) - (st.norm.cdf(-st.norm.ppf(1-alpha/2) - (new_delta - delta)/(math.sqrt(sd1**2/m+sd2**2/n))))"
   ],
   "metadata": {
    "collapsed": false,
    "pycharm": {
     "name": "#%%\n"
    }
   }
  },
  {
   "cell_type": "code",
   "execution_count": 61,
   "outputs": [
    {
     "data": {
      "text/plain": "0.3653726165797801"
     },
     "execution_count": 61,
     "metadata": {},
     "output_type": "execute_result"
    }
   ],
   "source": [
    "two_sample_larger_beta(delta=0, new_delta= 1, m = 42, n=30,sd1= 1.6, sd2 = 1.3,alpha= 0.01)"
   ],
   "metadata": {
    "collapsed": false,
    "pycharm": {
     "name": "#%%\n"
    }
   }
  },
  {
   "cell_type": "code",
   "execution_count": 57,
   "outputs": [
    {
     "data": {
      "text/plain": "0.746093622766712"
     },
     "execution_count": 57,
     "metadata": {},
     "output_type": "execute_result"
    }
   ],
   "source": [
    "two_sample_smaller_beta(delta = -1, new_delta = -1.3,  m = 8, n=8,sd1= 0.1, sd2 = 0.5, alpha = 0.01)"
   ],
   "metadata": {
    "collapsed": false,
    "pycharm": {
     "name": "#%%\n"
    }
   }
  },
  {
   "cell_type": "code",
   "execution_count": 62,
   "outputs": [
    {
     "data": {
      "text/plain": "0.27638457157488855"
     },
     "execution_count": 62,
     "metadata": {},
     "output_type": "execute_result"
    }
   ],
   "source": [
    "alpha = 0.01\n",
    "sd1 = 1.6\n",
    "sd2 = 1.3\n",
    "m = 42\n",
    "n = 30\n",
    "delta = 0\n",
    "new_delta = 1\n",
    "st.norm.cdf(st.norm.ppf(1-alpha) - ((new_delta - delta)/math.sqrt(sd1**2/m + sd2**2/n)))"
   ],
   "metadata": {
    "collapsed": false,
    "pycharm": {
     "name": "#%%\n"
    }
   }
  },
  {
   "cell_type": "code",
   "execution_count": 20,
   "outputs": [],
   "source": [
    "# Sample size:\n",
    "def sample_N_for_two_sample(sd1, sd2, alpha, beta, delta, new_delta):\n",
    "    return ((sd1**2+ sd2**2)*(st.norm.ppf(1-alpha)+st.norm.ppf(1-beta))**2) / (new_delta - delta)**2"
   ],
   "metadata": {
    "collapsed": false,
    "pycharm": {
     "name": "#%%\n"
    }
   }
  },
  {
   "cell_type": "code",
   "execution_count": 58,
   "outputs": [
    {
     "data": {
      "text/plain": "37.604488613353816"
     },
     "execution_count": 58,
     "metadata": {},
     "output_type": "execute_result"
    }
   ],
   "source": [
    "sample_N_for_two_sample(sd1 = 0.1, sd2 = 0.5, alpha = 0.01, beta = 0.1, delta = 0, new_delta=1 )"
   ],
   "metadata": {
    "collapsed": false,
    "pycharm": {
     "name": "#%%\n"
    }
   }
  },
  {
   "cell_type": "markdown",
   "source": [
    "### Confidence Interval for two sample"
   ],
   "metadata": {
    "collapsed": false,
    "pycharm": {
     "name": "#%% md\n"
    }
   }
  },
  {
   "cell_type": "code",
   "execution_count": 36,
   "outputs": [],
   "source": [
    "def CI_for_two_sample(mean1, mean2, sd1, sd2, m, n, confidence):\n",
    "    A = (mean1 - mean2)\n",
    "    B = (abs(st.norm.ppf((1-confidence)/2)))*(math.sqrt(sd1**2 / m + sd2**2/n))\n",
    "    return  (A-B, A+B)"
   ],
   "metadata": {
    "collapsed": false,
    "pycharm": {
     "name": "#%%\n"
    }
   }
  },
  {
   "cell_type": "code",
   "execution_count": 63,
   "outputs": [
    {
     "data": {
      "text/plain": "(-20.14727151003095, -8.452728489969044)"
     },
     "execution_count": 63,
     "metadata": {},
     "output_type": "execute_result"
    }
   ],
   "source": [
    "CI_for_two_sample(mean1 =  115.2, mean2 =129.5, sd1 =5.01, sd2 = 5.32, m = 6,n = 6, confidence=.95 )"
   ],
   "metadata": {
    "collapsed": false,
    "pycharm": {
     "name": "#%%\n"
    }
   }
  },
  {
   "cell_type": "markdown",
   "source": [
    "### The two-sample t test and CI"
   ],
   "metadata": {
    "collapsed": false,
    "pycharm": {
     "name": "#%% md\n",
     "is_executing": true
    }
   }
  },
  {
   "cell_type": "code",
   "execution_count": 2,
   "outputs": [],
   "source": [
    "def T_value_for_two_sample(mean1, mean2, m, n, sd1, sd2, delta):\n",
    "    T = (mean1-mean2-delta)/(math.sqrt(sd1**2/m + sd2**2/n))\n",
    "    DOF = math.ceil((sd1**2/m + sd2**2/n)**2/(( (sd1**2/m)**2/ (m-1) )+ ( (sd2**2/n)**2/ (m-1) )))\n",
    "    return T, DOF"
   ],
   "metadata": {
    "collapsed": false,
    "pycharm": {
     "name": "#%%\n"
    }
   }
  },
  {
   "cell_type": "code",
   "execution_count": 6,
   "outputs": [
    {
     "name": "stdout",
     "output_type": "stream",
     "text": [
      "T-value is:  -2.8991378028648422\n",
      "DOF is  14\n",
      "P_value is:  0.005830951925841377\n"
     ]
    }
   ],
   "source": [
    "T, DOF = T_value_for_two_sample(mean1=81, mean2=2.05 , m=10, n=10, sd1 = 0.2, sd2= 0.4, delta =-1)\n",
    "print(\"T-value is: \", T)\n",
    "print(\"DOF is \", DOF)\n",
    "p_value = st.t.sf(T,df=DOF)\n",
    "print(\"P_value is: \", 1-p_value)"
   ],
   "metadata": {
    "collapsed": false,
    "pycharm": {
     "name": "#%%\n"
    }
   }
  },
  {
   "cell_type": "code",
   "execution_count": 54,
   "outputs": [
    {
     "name": "stdout",
     "output_type": "stream",
     "text": [
      "T-value is:  0.960392076798049\n",
      "DOF is  60\n",
      "P_value is:  0.17035615655952885\n"
     ]
    }
   ],
   "source": [
    "T, DOF = T_value_for_two_sample(mean1=5.6 , mean2=3.9  , m=32, n=32, sd1 = 3.2, sd2= 2.6, delta =1)\n",
    "print(\"T-value is: \", T)\n",
    "print(\"DOF is \", DOF)\n",
    "p_value = st.t.cdf(T,df=DOF)\n",
    "print(\"P_value is: \", 1-p_value)\n"
   ],
   "metadata": {
    "collapsed": false,
    "pycharm": {
     "name": "#%%\n"
    }
   }
  },
  {
   "cell_type": "code",
   "execution_count": 68,
   "outputs": [
    {
     "name": "stdout",
     "output_type": "stream",
     "text": [
      "Degree of freedom is:  10\n"
     ]
    },
    {
     "data": {
      "text/plain": "(-20.946918528661733, -7.653081471338263)"
     },
     "execution_count": 68,
     "metadata": {},
     "output_type": "execute_result"
    }
   ],
   "source": [
    "# CI: Need to calculate df first:\n",
    "_, DOF = T_value_for_two_sample(mean1= 115.2, mean2=129.5 , m=6, n=6, sd1 =5.01, sd2=5.32, delta =0)\n",
    "print(\"Degree of freedom is: \", DOF)\n",
    "def CI_for_t_value(mean1, mean2, t_value,  m, n,sd1, sd2):\n",
    "    A = (mean1 - mean2)\n",
    "    B = t_value*math.sqrt(sd1**2/m + sd2**2/n)\n",
    "    return (A-B, A+B)\n",
    "CI_for_t_value(mean1=115.2, mean2=129.5, t_value = 2.228, m=6, n=6, sd1 =5.01, sd2=5.32)\n"
   ],
   "metadata": {
    "collapsed": false,
    "pycharm": {
     "name": "#%%\n"
    }
   }
  },
  {
   "cell_type": "code",
   "execution_count": 27,
   "outputs": [
    {
     "data": {
      "text/plain": "array([200, 339,  70,  24, 122,   6,  51,   5, 163,  82])"
     },
     "execution_count": 27,
     "metadata": {},
     "output_type": "execute_result"
    }
   ],
   "source": [
    "import numpy as np\n",
    "A = np.asarray([1929,2546,2825, 1921, 1628,2175,2113,2621,1843,2543])\n",
    "B = np.asarray([2129,2885,2895,1945,1750,2181,2164,2626, 2006,2625])\n",
    "D = B-A\n",
    "D"
   ],
   "metadata": {
    "collapsed": false,
    "pycharm": {
     "name": "#%%\n"
    }
   }
  },
  {
   "cell_type": "code",
   "source": [
    "# paired T test\n",
    "def paired_t_test(d, delta_0,sd, n):\n",
    "    t = (d - delta_0)/(sd / math.sqrt(n))\n",
    "    return t, st.t.cdf(t, df = n-1)\n",
    "\n"
   ],
   "metadata": {
    "collapsed": false,
    "pycharm": {
     "name": "#%%\n"
    }
   },
   "execution_count": 30,
   "outputs": []
  },
  {
   "cell_type": "code",
   "execution_count": 31,
   "outputs": [
    {
     "data": {
      "text/plain": "0.014657545839519504"
     },
     "execution_count": 31,
     "metadata": {},
     "output_type": "execute_result"
    }
   ],
   "source": [
    "t, p = paired_t_test(np.mean(D), 25,np.std(D), len(D) )\n",
    "1-p"
   ],
   "metadata": {
    "collapsed": false,
    "pycharm": {
     "name": "#%%\n"
    }
   }
  }
 ],
 "metadata": {
  "kernelspec": {
   "name": "pycharm-5e21c1db",
   "language": "python",
   "display_name": "PyCharm (math401)"
  },
  "language_info": {
   "codemirror_mode": {
    "name": "ipython",
    "version": 2
   },
   "file_extension": ".py",
   "mimetype": "text/x-python",
   "name": "python",
   "nbconvert_exporter": "python",
   "pygments_lexer": "ipython2",
   "version": "2.7.6"
  }
 },
 "nbformat": 4,
 "nbformat_minor": 0
}