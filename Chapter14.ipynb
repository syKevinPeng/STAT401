{
 "cells": [
  {
   "cell_type": "markdown",
   "metadata": {
    "collapsed": true,
    "pycharm": {
     "name": "#%% md\n"
    }
   },
   "source": [
    "# Chapter 14 Goodness-of-fit test and categorical analysis"
   ]
  },
  {
   "cell_type": "code",
   "execution_count": 1,
   "outputs": [
    {
     "data": {
      "text/plain": "21.0"
     },
     "execution_count": 1,
     "metadata": {},
     "output_type": "execute_result"
    }
   ],
   "source": [
    "# calculate chi-squared value:\n",
    "prob_list = [0.2,0.2,0.2,0.2,0.2]\n",
    "sample_list = [2,0,14,5,9]\n",
    "\n",
    "total_sample = sum(sample_list)\n",
    "total_chi_suqre = 0\n",
    "for prob, sample in zip(prob_list, sample_list):\n",
    "    expected = total_sample * prob\n",
    "    chi_square = (sample - expected)**2/expected\n",
    "    total_chi_suqre += chi_square\n",
    "total_chi_suqre"
   ],
   "metadata": {
    "collapsed": false,
    "pycharm": {
     "name": "#%%\n"
    }
   }
  },
  {
   "cell_type": "code",
   "execution_count": 9,
   "outputs": [
    {
     "data": {
      "text/plain": "0.0003166691675220923"
     },
     "execution_count": 9,
     "metadata": {},
     "output_type": "execute_result"
    }
   ],
   "source": [
    "from scipy.stats.distributions import chi2\n",
    "df = len(prob_list) - 1\n",
    "p_value = chi2.sf(total_chi_suqre,df )\n",
    "p_value"
   ],
   "metadata": {
    "collapsed": false,
    "pycharm": {
     "name": "#%%\n"
    }
   }
  },
  {
   "cell_type": "markdown",
   "source": [
    "## Two-way Contingency Table"
   ],
   "metadata": {
    "collapsed": false,
    "pycharm": {
     "name": "#%% md\n"
    }
   }
  },
  {
   "cell_type": "code",
   "execution_count": 2,
   "outputs": [],
   "source": [
    "import numpy as np\n",
    "from itertools import permutations\n",
    "# m = 3 # row\n",
    "# n = 5 # coloumn\n",
    "# table_shape = (m, n)\n",
    "observed = np.asarray([20,21,20,11,22,17,35,16])\n",
    "# observed = observed.reshape((m,n))\n",
    "expected = [22.33,23.182,21.99,21.85,20.91,19.23,18.144,14.28]"
   ],
   "metadata": {
    "collapsed": false,
    "pycharm": {
     "name": "#%%\n"
    }
   }
  },
  {
   "cell_type": "markdown",
   "source": [
    "row_sum = [sum(i) for i in observed]\n",
    "col_sum = [sum(i) for i in observed.T]\n",
    "total_sum = sum(row_sum)\n",
    "total_sum"
   ],
   "metadata": {
    "collapsed": false,
    "pycharm": {
     "name": "#%% md\n"
    }
   }
  },
  {
   "cell_type": "markdown",
   "source": [
    "expected = []\n",
    "for i in row_sum:\n",
    "    for j in col_sum:\n",
    "        expected.append(i*j/total_sum)\n",
    "expected = np.asarray(expected)\n",
    "expected"
   ],
   "metadata": {
    "collapsed": false,
    "pycharm": {
     "name": "#%% md\n"
    }
   }
  },
  {
   "cell_type": "code",
   "execution_count": 5,
   "outputs": [],
   "source": [
    "chi_squared =(np.power((observed.flatten() - expected),2)/expected)"
   ],
   "metadata": {
    "collapsed": false,
    "pycharm": {
     "name": "#%%\n"
    }
   }
  },
  {
   "cell_type": "code",
   "execution_count": 7,
   "outputs": [
    {
     "data": {
      "text/plain": "0.0004800289455392451"
     },
     "execution_count": 7,
     "metadata": {},
     "output_type": "execute_result"
    }
   ],
   "source": [
    "from scipy.stats.distributions import chi2\n",
    "chi_squared_sum = sum(chi_squared)\n",
    "df = 5\n",
    "p_value = chi2.sf(chi_squared_sum,df )\n",
    "p_value\n"
   ],
   "metadata": {
    "collapsed": false,
    "pycharm": {
     "name": "#%%\n"
    }
   }
  },
  {
   "cell_type": "code",
   "execution_count": 14,
   "outputs": [],
   "source": [],
   "metadata": {
    "collapsed": false,
    "pycharm": {
     "name": "#%%\n"
    }
   }
  }
 ],
 "metadata": {
  "kernelspec": {
   "name": "pycharm-5e21c1db",
   "language": "python",
   "display_name": "PyCharm (math401)"
  },
  "language_info": {
   "codemirror_mode": {
    "name": "ipython",
    "version": 2
   },
   "file_extension": ".py",
   "mimetype": "text/x-python",
   "name": "python",
   "nbconvert_exporter": "python",
   "pygments_lexer": "ipython2",
   "version": "2.7.6"
  }
 },
 "nbformat": 4,
 "nbformat_minor": 0
}