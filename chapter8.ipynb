{
 "cells": [
  {
   "cell_type": "code",
   "execution_count": 8,
   "outputs": [],
   "source": [
    "import math\n",
    "import scipy.stats as st"
   ],
   "metadata": {
    "collapsed": false,
    "pycharm": {
     "name": "#%%\n"
    }
   }
  },
  {
   "cell_type": "markdown",
   "metadata": {
    "collapsed": true,
    "pycharm": {
     "name": "#%% md\n"
    }
   },
   "source": [
    "### Null and Alternative Hypothesis"
   ]
  },
  {
   "cell_type": "markdown",
   "source": [
    "Rules when determine H0 and Ha:\n",
    "- Ha cannot include equality\n",
    "- The asserteds value in H0 should also appear in Ha. i.e They should measure the same value\n",
    "\n",
    "Correct Example:\n",
    "- H0: p1 − p2 = −0.1, Ha: p1 − p2 < −0.1\n",
    "- H0: σ1/σ2 = 1, Ha: σ1/σ2 ≠ 1\n",
    "\n",
    "Wrong Example:\n",
    "- H0: σ = 20, Ha: σ ≤ 20 (has equal in Ha)\n",
    "- H0: σ = 20, Ha: σ ≤ 20\n",
    "- H0: μ = 120, Ha: μ = 150"
   ],
   "metadata": {
    "collapsed": false,
    "pycharm": {
     "name": "#%% md\n"
    }
   }
  },
  {
   "cell_type": "markdown",
   "source": [
    "### Errors in Hypothesis Testing\n",
    "Define:\n",
    "- A **Type I error**  consists of rejecting the null hypothesis H0 when it is True\n",
    "- A **Type II error** involves not rejecting the null hypothesis H0 when it is False\n",
    "\n",
    "Changing The rejection Region:\n",
    "- beta is the probability that the test statistic falls\n",
    "\n",
    "Proposition:\n",
    "- Suppose an experiment and a sample size are fixed and a test statistic is chosen. Then decreasing the size of the\n",
    "rejection region to obtain a smaller value of alpha result in a larger value of beta"
   ],
   "metadata": {
    "collapsed": false,
    "pycharm": {
     "name": "#%% md\n"
    }
   }
  },
  {
   "cell_type": "code",
   "execution_count": 9,
   "outputs": [
    {
     "name": "stdout",
     "output_type": "stream",
     "text": [
      "Z value is  1.185336023501911\n",
      "The corresponding P is:  (0.8820576920795353, 0.11794230792046467)\n"
     ]
    }
   ],
   "source": [
    "# Assume that population has normal distirbution with know sd and mean\n",
    "def calculate_Z_and_P(x_value, mean, sd, n):\n",
    "    z_value = (x_value - mean)/(sd /math.sqrt(n))\n",
    "    print(\"Z value is \", z_value )\n",
    "    print(\"The corresponding P is: \", (st.norm.cdf(z_value), 1-st.norm.cdf(z_value)))\n",
    "calculate_Z_and_P(x_value= 249.66666666666666, mean=200, sd=145.14903521636796, n=12 )"
   ],
   "metadata": {
    "collapsed": false,
    "pycharm": {
     "name": "#%%\n"
    }
   }
  },
  {
   "cell_type": "code",
   "execution_count": 10,
   "outputs": [
    {
     "data": {
      "text/plain": "0.492021686283098"
     },
     "execution_count": 10,
     "metadata": {},
     "output_type": "execute_result"
    }
   ],
   "source": [
    "st.norm.cdf(-0.02)"
   ],
   "metadata": {
    "collapsed": false,
    "pycharm": {
     "name": "#%%\n"
    }
   }
  },
  {
   "cell_type": "markdown",
   "source": [
    "### Rejection Area\n",
    "Define:\n",
    "- If P-value <= alpha, then H0 will be rejected in favor of Ha\n",
    "- if P-value > alpha, the H0 fails to be rejected\n",
    "\n",
    "Note:\n",
    "- P-value is a probability\n",
    "- This probability is calculated assuming H0 is true\n",
    "- The smaller P-value, the stronger is the evidence against H0"
   ],
   "metadata": {
    "collapsed": false,
    "pycharm": {
     "name": "#%% md\n"
    }
   }
  },
  {
   "cell_type": "markdown",
   "source": [
    "### Beta and Sample Size Determination\n",
    "![image](https://drive.google.com/uc?export=view&id=1yDmCgMjVvvOTEuGaf1BKwftUsh5d33eN)"
   ],
   "metadata": {
    "collapsed": false,
    "pycharm": {
     "name": "#%% md\n"
    }
   }
  },
  {
   "cell_type": "code",
   "execution_count": 11,
   "outputs": [],
   "source": [
    "# When Ha: x > x0\n",
    "def beta_larger(conf, mean, x_value, sd, n):\n",
    "    print(\"Beta for level alpha test is \", st.norm.cdf(st.norm.ppf(conf) + (mean- x_value)/(sd /math.sqrt(n))))\n",
    "# When Ha: x < x0\n",
    "def beta_smaller(conf, mean, x_value, sd, n):\n",
    "    # print(\"Beta for level alpha test is \", 1-st.norm.cdf(-st.norm.ppf(conf) + (mean- x_value)/(sd /math.sqrt(n))))\n",
    "    print(\"Beta for level alpha test is \",1-st.norm.cdf((mean- x_value)/(sd /math.sqrt(n))+st.norm.ppf(0.003)))\n",
    "# When Ha: x != x0\n",
    "def beta_not_equal(conf, mean, x_value, sd, n):\n",
    "    return st.norm.cdf(st.norm.ppf(conf/2) + (mean- x_value)/(sd /math.sqrt(n)))-st.norm.cdf(-st.norm.ppf(conf/2) + (mean- x_value)/(sd /math.sqrt(n)))"
   ],
   "metadata": {
    "collapsed": false,
    "pycharm": {
     "name": "#%%\n"
    }
   }
  },
  {
   "cell_type": "code",
   "execution_count": 12,
   "outputs": [
    {
     "ename": "TypeError",
     "evalue": "beta_larger() missing 5 required positional arguments: 'conf', 'mean', 'x_value', 'sd', and 'n'",
     "output_type": "error",
     "traceback": [
      "\u001B[1;31m---------------------------------------------------------------------------\u001B[0m",
      "\u001B[1;31mTypeError\u001B[0m                                 Traceback (most recent call last)",
      "\u001B[1;32m<ipython-input-12-5624891e3338>\u001B[0m in \u001B[0;36m<module>\u001B[1;34m\u001B[0m\n\u001B[1;32m----> 1\u001B[1;33m \u001B[0mbeta_larger\u001B[0m\u001B[1;33m(\u001B[0m\u001B[1;33m)\u001B[0m\u001B[1;33m\u001B[0m\u001B[1;33m\u001B[0m\u001B[0m\n\u001B[0m\u001B[0;32m      2\u001B[0m \u001B[0mprint\u001B[0m\u001B[1;33m(\u001B[0m\u001B[1;36m1\u001B[0m\u001B[1;33m+\u001B[0m \u001B[0mbeta_not_equal\u001B[0m\u001B[1;33m(\u001B[0m\u001B[0mconf\u001B[0m \u001B[1;33m=\u001B[0m \u001B[1;36m0.01\u001B[0m\u001B[1;33m,\u001B[0m \u001B[0mmean\u001B[0m\u001B[1;33m=\u001B[0m\u001B[1;36m5.5\u001B[0m\u001B[1;33m,\u001B[0m \u001B[0mx_value\u001B[0m \u001B[1;33m=\u001B[0m \u001B[1;36m5.6\u001B[0m\u001B[1;33m,\u001B[0m\u001B[0msd\u001B[0m\u001B[1;33m=\u001B[0m \u001B[1;36m0.32\u001B[0m\u001B[1;33m,\u001B[0m\u001B[0mn\u001B[0m\u001B[1;33m=\u001B[0m \u001B[1;36m16\u001B[0m\u001B[1;33m)\u001B[0m\u001B[1;33m)\u001B[0m\u001B[1;33m\u001B[0m\u001B[1;33m\u001B[0m\u001B[0m\n\u001B[0;32m      3\u001B[0m \u001B[1;33m\u001B[0m\u001B[0m\n",
      "\u001B[1;31mTypeError\u001B[0m: beta_larger() missing 5 required positional arguments: 'conf', 'mean', 'x_value', 'sd', and 'n'"
     ]
    }
   ],
   "source": [
    "beta_larger()\n",
    "print(1+ beta_not_equal(conf = 0.01, mean=5.5, x_value = 5.6,sd= 0.32,n= 16))"
   ],
   "metadata": {
    "collapsed": false,
    "pycharm": {
     "name": "#%%\n"
    }
   }
  },
  {
   "cell_type": "code",
   "execution_count": null,
   "outputs": [],
   "source": [
    "# sample size n for one-tailed test (upper or lower)\n",
    "def n_beta_one_tail(alpha, beta, mean, x_value,sd):\n",
    "    return (sd*(abs(st.norm.ppf(alpha))+abs(st.norm.ppf(beta)))/(mean-x_value))**2\n",
    "# sample size n for one-tailed test (upper or lower)\n",
    "def n_beta_double_tail(alpha, beta, mean, x_value,sd):\n",
    "    return (sd*(abs(st.norm.ppf(alpha/2))+abs((st.norm.ppf(beta))))/(mean-x_value))**2"
   ],
   "metadata": {
    "collapsed": false,
    "pycharm": {
     "name": "#%%\n"
    }
   }
  },
  {
   "cell_type": "code",
   "execution_count": null,
   "outputs": [],
   "source": [
    "print(n_beta_one_tail(alpha = 0.003, beta = 0.01, mean = 74, x_value=70, sd =7))\n",
    "print(n_beta_double_tail(alpha = 0.01, beta = 0.01, mean = 5.5, x_value=5.6, sd = 0.32))"
   ],
   "metadata": {
    "collapsed": false,
    "pycharm": {
     "name": "#%%\n"
    }
   }
  },
  {
   "cell_type": "markdown",
   "source": [
    "## The One-Sample t test\n",
    "![image](https://drive.google.com/uc?export=view&id=12fBjdrIJoVAR1T7YY3mMKcJBiMltRAh-)"
   ],
   "metadata": {
    "collapsed": false,
    "pycharm": {
     "name": "#%% md\n"
    }
   }
  },
  {
   "cell_type": "code",
   "execution_count": 21,
   "outputs": [
    {
     "name": "stdout",
     "output_type": "stream",
     "text": [
      "t_value is:  1.3824642658153454\n",
      "probability:  0.0984612017581452\n"
     ]
    }
   ],
   "source": [
    "# !!! For review: check if it is mean-xvalue\n",
    "from scipy import stats\n",
    "# Calculate t:\n",
    "def t_value(x_value, mean, sd, n):\n",
    "    t_value = (mean-x_value)/(sd/math.sqrt(n))\n",
    "    probability = stats.t.sf(t_value,n)\n",
    "    return t_value, probability\n",
    "t_value, probability = t_value(x_value=96.41, mean=100, sd =8.21184104408587, n = 10)\n",
    "print(\"t_value is: \", t_value)\n",
    "print(\"probability: \", probability)"
   ],
   "metadata": {
    "collapsed": false,
    "pycharm": {
     "name": "#%%\n"
    }
   }
  },
  {
   "cell_type": "code",
   "execution_count": 20,
   "outputs": [
    {
     "data": {
      "text/plain": "0.9015387982418548"
     },
     "execution_count": 20,
     "metadata": {},
     "output_type": "execute_result"
    }
   ],
   "source": [
    "stats.t.sf(-1.3824642658153454,10)"
   ],
   "metadata": {
    "collapsed": false,
    "pycharm": {
     "name": "#%%\n"
    }
   }
  },
  {
   "cell_type": "markdown",
   "source": [
    "### Beta and sample size for t value"
   ],
   "metadata": {
    "collapsed": false,
    "pycharm": {
     "name": "#%% md\n"
    }
   }
  },
  {
   "cell_type": "code",
   "execution_count": null,
   "outputs": [],
   "source": [
    "from scipy import stats\n",
    "stats.t.sf(1.6,7)"
   ],
   "metadata": {
    "collapsed": false,
    "pycharm": {
     "name": "#%%\n"
    }
   }
  },
  {
   "cell_type": "markdown",
   "source": [
    "## Large Sample population proportion test\n",
    "![image](https://drive.google.com/uc?export=view&id=1jdt1IoR4D5rbbV-qea7wcICr1IF-p6YE)"
   ],
   "metadata": {
    "collapsed": false,
    "pycharm": {
     "name": "#%% md\n"
    }
   }
  },
  {
   "cell_type": "code",
   "execution_count": 23,
   "outputs": [],
   "source": [
    "def proportion_z(p,p0, n):\n",
    "    z = (p-p0)/(math.sqrt(p0*(1-p0)/n))\n",
    "    p_values = stats.norm.sf((z)) #one-sided\n",
    "    return z, p_values"
   ],
   "metadata": {
    "collapsed": false,
    "pycharm": {
     "name": "#%%\n"
    }
   }
  },
  {
   "cell_type": "code",
   "execution_count": 40,
   "outputs": [
    {
     "name": "stdout",
     "output_type": "stream",
     "text": [
      "Z value is:  -0.8999540851465136\n",
      "p_value is:  0.18407234286445195\n"
     ]
    }
   ],
   "source": [
    "z, p_value = proportion_z(76/121, 2/3,121)\n",
    "print(\"Z value is: \", z)\n",
    "print(\"p_value is: \", 1-p_value)"
   ],
   "metadata": {
    "collapsed": false,
    "pycharm": {
     "name": "#%%\n"
    }
   }
  },
  {
   "cell_type": "code",
   "execution_count": 39,
   "outputs": [
    {
     "data": {
      "text/plain": "0.8159398746532405"
     },
     "execution_count": 39,
     "metadata": {},
     "output_type": "execute_result"
    }
   ],
   "source": [
    "stats.norm.sf(-0.90)"
   ],
   "metadata": {
    "collapsed": false,
    "pycharm": {
     "name": "#%%\n"
    }
   }
  },
  {
   "cell_type": "code",
   "execution_count": null,
   "outputs": [],
   "source": [
    "# Beta:\n",
    "# for p >p0:\n",
    "def beta_larger(po,p_prime,n, alpha):\n",
    "    print(\"z—alpha\", stats.norm.ppf(1-abs(alpha)))\n",
    "    z = (po-p_prime+stats.norm.ppf(1-abs(alpha))*math.sqrt(po*(1-po)/n))/(math.sqrt(p_prime*(1-p_prime)/n))\n",
    "    return stats.norm.cdf(z)\n",
    "# for p<p0\n",
    "def beta_smaller(po,p_prime,n, alpha):\n",
    "    z = (po-p_prime+stats.norm.ppf(1-abs(alpha))*math.sqrt(po*(1-po)/n))/(math.sqrt(p_prime*(1-p_prime)/n))\n",
    "    return 1-stats.norm.cdf(z)\n",
    "# for p!= po\n",
    "def beta_not_equal(po,p_prime,n, alpha):\n",
    "    z_1 =  (po-p_prime+stats.norm.ppf(1-abs(alpha/2))*math.sqrt(po*(1-po)/n))/(math.sqrt(p_prime*(1-p_prime)/n))\n",
    "    z_2 = (po-p_prime-stats.norm.ppf(1-abs(alpha/2))*math.sqrt(po*(1-po)/n))/(math.sqrt(p_prime*(1-p_prime)/n))\n",
    "    return  stats.norm.cdf(z_1)- stats.norm.cdf(z_2)\n",
    "\n",
    "## !!! For review: what is p_prime and po\n",
    "# sample size\n",
    "def sample_size_proportion_one_tail(p_prime, po, alpha,beta):\n",
    "    return ((stats.norm.ppf(1-abs(alpha))*math.sqrt(po*(1-po))+stats.norm.ppf(1-abs(beta))*math.sqrt(p_prime*(1-p_prime)))\\\n",
    "           /(p_prime-po))**2\n",
    "\n",
    "# sample size\n",
    "def sample_size_proportion_two_tail(p_prime, po, alpha,beta):\n",
    "    return ((stats.norm.ppf(1-abs(alpha/2))*math.sqrt(po*(1-po))+stats.norm.ppf(1-abs(beta))*math.sqrt(p_prime*(1-p_prime)))\\\n",
    "           /(p_prime-po))**2"
   ],
   "metadata": {
    "collapsed": false,
    "pycharm": {
     "name": "#%%\n"
    }
   }
  },
  {
   "cell_type": "code",
   "execution_count": null,
   "outputs": [],
   "source": [
    "probability = beta_larger(200,300,12,0.05)\n",
    "probability"
   ],
   "metadata": {
    "collapsed": false,
    "pycharm": {
     "name": "#%%\n"
    }
   }
  },
  {
   "cell_type": "code",
   "execution_count": null,
   "outputs": [],
   "source": [
    "sample_size_proportion_two_tail(p_prime=0.1, po=0.05, alpha=0.01,beta=0.1)"
   ],
   "metadata": {
    "collapsed": false,
    "pycharm": {
     "name": "#%%\n"
    }
   }
  },
  {
   "cell_type": "code",
   "execution_count": 38,
   "outputs": [
    {
     "data": {
      "text/plain": "0.3857768881003494"
     },
     "execution_count": 38,
     "metadata": {},
     "output_type": "execute_result"
    }
   ],
   "source": [
    "stats.binom.cdf(76,121,2/3)+1-stats.binom.cdf((76+(121*2/3-76)*2),121,2/3)"
   ],
   "metadata": {
    "collapsed": false,
    "pycharm": {
     "name": "#%%\n"
    }
   }
  },
  {
   "cell_type": "code",
   "execution_count": 35,
   "outputs": [
    {
     "data": {
      "text/plain": "80.66666666666667"
     },
     "execution_count": 35,
     "metadata": {},
     "output_type": "execute_result"
    }
   ],
   "source": [
    "121*2/3"
   ],
   "metadata": {
    "collapsed": false,
    "pycharm": {
     "name": "#%%\n"
    }
   }
  },
  {
   "cell_type": "markdown",
   "source": [
    "## Small Sample population proportion test"
   ],
   "metadata": {
    "collapsed": false
   }
  }
 ],
 "metadata": {
  "kernelspec": {
   "name": "pycharm-5e21c1db",
   "language": "python",
   "display_name": "PyCharm (math401)"
  },
  "language_info": {
   "codemirror_mode": {
    "name": "ipython",
    "version": 2
   },
   "file_extension": ".py",
   "mimetype": "text/x-python",
   "name": "python",
   "nbconvert_exporter": "python",
   "pygments_lexer": "ipython2",
   "version": "2.7.6"
  }
 },
 "nbformat": 4,
 "nbformat_minor": 0
}