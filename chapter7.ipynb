{
 "metadata": {
  "language_info": {
   "codemirror_mode": {
    "name": "ipython",
    "version": 3
   },
   "file_extension": ".py",
   "mimetype": "text/x-python",
   "name": "python",
   "nbconvert_exporter": "python",
   "pygments_lexer": "ipython3",
   "version": "3.7.8-final"
  },
  "orig_nbformat": 2,
  "kernelspec": {
   "name": "pycharm-5e21c1db",
   "language": "python",
   "display_name": "PyCharm (math401)"
  }
 },
 "nbformat": 4,
 "nbformat_minor": 2,
 "cells": [
  {
   "cell_type": "code",
   "execution_count": 2,
   "metadata": {},
   "outputs": [],
   "source": [
    "from scipy import stats\n",
    "import numpy as np\n",
    "import math\n",
    "import statistics as stat"
   ]
  },
  {
   "source": [
    "Calculate statistics for a list of data"
   ],
   "cell_type": "markdown",
   "metadata": {}
  },
  {
   "cell_type": "code",
   "execution_count": 7,
   "metadata": {
    "tags": []
   },
   "outputs": [
    {
     "name": "stdout",
     "output_type": "stream",
     "text": [
      "Mean:  96.41\n",
      "Standard Deviation:  8.21184104408587\n",
      "n :  10\n",
      "hs\n"
     ]
    }
   ],
   "source": [
    "list = ([112.1\t  ,  \t97.0\t   , \t92.6\t    ,\t86.0\t ,   \t102.0,\n",
    "99.3\t   , \t95.8\t ,   \t103.5\t    ,\t89.0\t  ,  \t86.8\n",
    "])\n",
    "print(\"Mean: \", stat.mean(list))\n",
    "print(\"Standard Deviation: \", stat.stdev(list))\n",
    "print(\"n : \", len(list))\n",
    "print(\"hs\")"
   ]
  },
  {
   "source": [
    "# CI for normal distribution\n",
    "Z-value for double-side\n",
    "99% = 2.58\n",
    "95% = 1.96 \n",
    "90% = 1.645\n",
    "80% = 1.28"
   ],
   "cell_type": "markdown",
   "metadata": {}
  },
  {
   "source": [
    "For n is large enough:"
   ],
   "cell_type": "markdown",
   "metadata": {}
  },
  {
   "cell_type": "code",
   "execution_count": 4,
   "metadata": {},
   "outputs": [
    {
     "name": "stdout",
     "output_type": "stream",
     "text": [
      "CI for normal distribution  (23.839728497773176, 28.160271502226824)\n"
     ]
    }
   ],
   "source": [
    "def CI_for_normal(z_value, n, mean, sd):\n",
    "    print(\"CI for normal distribution \", (mean - z_value*(sd/math.sqrt(n)),mean + z_value*(sd/math.sqrt(n))))\n",
    "CI_for_normal(z_value=2.201, n=12, mean=26.0 , sd=3.4)"
   ]
  },
  {
   "source": [
    "Calculate Sample Size from width of the CI for CI Normal Distribution"
   ],
   "cell_type": "markdown",
   "metadata": {}
  },
  {
   "cell_type": "code",
   "execution_count": 10,
   "metadata": {},
   "outputs": [],
   "source": [
    "def sample_size_for_CI(z_value, sd, w):\n",
    "    print(\"sample size for CI \", (2*z_value * sd / w )**2)\n",
    "#sample_size_for_CI(z_value = 1.96, sd = 185, w = 41 )"
   ]
  },
  {
   "source": [
    "# CI for proportion distribution"
   ],
   "cell_type": "markdown",
   "metadata": {}
  },
  {
   "cell_type": "code",
   "execution_count": 5,
   "metadata": {},
   "outputs": [
    {
     "name": "stdout",
     "output_type": "stream",
     "text": [
      "CI for proportion distribution  (0.2605618066297556, 0.45634208006211396)\n",
      "0.3584519433459348\n",
      "0.09789013671617916\n"
     ]
    }
   ],
   "source": [
    "def CI_for_proportion(n , p, z_value):\n",
    "    q = 1-p\n",
    "    A = (p + z_value**2/(2*n))/(1+z_value**2/n)\n",
    "    B = z_value*(math.sqrt(p*q/n + (z_value**2)/(4*(n**2)))/(1+((z_value**2)/n)))\n",
    "    print(\"CI for proportion distribution \", (A-B, A+B))\n",
    "    print(A)\n",
    "    print(B)\n",
    "CI_for_proportion(n = 88, p = 31/88, z_value = 1.96)"
   ]
  },
  {
   "cell_type": "markdown",
   "metadata": {
    "pycharm": {
     "name": "#%% md\n"
    }
   },
   "source": [
    "# CI for small sample (t-score)\n",
    "Assumption: sample observations were taken from a normally distributed population.\n",
    "When n is small:"
   ]
  },
  {
   "cell_type": "code",
   "execution_count": 2,
   "outputs": [
    {
     "name": "stdout",
     "output_type": "stream",
     "text": [
      "CI for t_score with degree of freedom  26  is  (743.3565628762406, 870.6434371237594)\n"
     ]
    }
   ],
   "source": [
    "def CI_for_small_sample(mean, t_score, sd, n):\n",
    "    print(\"CI for t_score with degree of freedom \", n-1,\" is \", (mean - t_score*(sd/math.sqrt(n)),mean + t_score*(sd/math.sqrt(n))))\n",
    "CI_for_small_sample(mean = 807, t_score =2.779, sd = 119, n = 27)"
   ],
   "metadata": {
    "collapsed": false,
    "pycharm": {
     "name": "#%%\n"
    }
   }
  },
  {
   "cell_type": "code",
   "execution_count": 4,
   "outputs": [
    {
     "name": "stdout",
     "output_type": "stream",
     "text": [
      "Prediction of CI for t_score with degree of freedom  17  is  (40.82939040272282, 87.99060959727717)\n"
     ]
    }
   ],
   "source": [
    "# CI for small sample prediction\n",
    "def CI_for_small_sample_preduction(mean, t_score, sd, n):\n",
    "    print(\"Prediction of CI for t_score with degree of freedom \", n-1,\" is \", (mean - t_score*(sd*math.sqrt(1+1/n)),mean + t_score*(sd*math.sqrt(1+1/n))))\n",
    "CI_for_small_sample_preduction(mean = 64.41, t_score = 2.224, sd = 10.32, n =18)"
   ],
   "metadata": {
    "collapsed": false,
    "pycharm": {
     "name": "#%%\n"
    }
   }
  },
  {
   "cell_type": "markdown",
   "source": [
    "# Tolerence Interval"
   ],
   "metadata": {
    "collapsed": false,
    "pycharm": {
     "name": "#%% md\n"
    }
   }
  },
  {
   "cell_type": "code",
   "execution_count": 10,
   "outputs": [
    {
     "name": "stdout",
     "output_type": "stream",
     "text": [
      "tolerence interval:  (0.620171, 1.231829)\n"
     ]
    }
   ],
   "source": [
    "def tolerence_interval(mean, tolerance_value, sd):\n",
    "    print(\"tolerence interval: \", (mean-tolerance_value*sd,mean+tolerance_value*sd))\n",
    "tolerence_interval(mean = 0.9260, tolerance_value=3.615, sd = 0.0846)"
   ],
   "metadata": {
    "collapsed": false,
    "pycharm": {
     "name": "#%%\n"
    }
   }
  },
  {
   "cell_type": "code",
   "execution_count": 3,
   "outputs": [
    {
     "data": {
      "text/plain": "0.49011310092790417"
     },
     "execution_count": 3,
     "metadata": {},
     "output_type": "execute_result"
    }
   ],
   "source": [
    "# calculate p_value from t-value\n",
    "stats.t.sf(0.025, 29)\n"
   ],
   "metadata": {
    "collapsed": false,
    "pycharm": {
     "name": "#%%\n"
    }
   }
  },
  {
   "cell_type": "code",
   "execution_count": null,
   "outputs": [],
   "source": [],
   "metadata": {
    "collapsed": false,
    "pycharm": {
     "name": "#%%\n"
    }
   }
  }
 ]
}